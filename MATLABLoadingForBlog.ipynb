{
 "cells": [
  {
   "cell_type": "code",
   "execution_count": 1,
   "metadata": {
    "collapsed": true
   },
   "outputs": [],
   "source": [
    "import scipy.io\n",
    "from scipy.io import savemat\n",
    "from scipy.sparse import csr_matrix\n",
    "import numpy as np"
   ]
  },
  {
   "cell_type": "markdown",
   "metadata": {},
   "source": [
    "## Inst File Example"
   ]
  },
  {
   "cell_type": "code",
   "execution_count": 2,
   "metadata": {
    "collapsed": false
   },
   "outputs": [
    {
     "data": {
      "text/plain": [
       "{'GTinst': array([[ (array([[0, 0, 0, ..., 0, 0, 0],\n",
       "        [0, 0, 0, ..., 0, 0, 0],\n",
       "        [0, 0, 0, ..., 0, 0, 0],\n",
       "        ..., \n",
       "        [0, 0, 0, ..., 0, 0, 0],\n",
       "        [0, 0, 0, ..., 0, 0, 0],\n",
       "        [0, 0, 0, ..., 0, 0, 0]], dtype=uint8), array([[ <400x500 sparse matrix of type '<class 'numpy.uint8'>'\n",
       " \twith 154 stored elements in Compressed Sparse Column format>]], dtype=object), array([[3]], dtype=uint8))]], \n",
       "       dtype=[('Segmentation', 'O'), ('Boundaries', 'O'), ('Categories', 'O')]),\n",
       " '__globals__': [],\n",
       " '__header__': b'MATLAB 5.0 MAT-file, Platform: GLNXA64, Created on: Sun Jan  8 04:43:39 2012',\n",
       " '__version__': '1.0'}"
      ]
     },
     "execution_count": 2,
     "metadata": {},
     "output_type": "execute_result"
    }
   ],
   "source": [
    "#Load inst file\n",
    "my_mat = scipy.io.loadmat('2011_003276.mat')\n",
    "my_mat"
   ]
  },
  {
   "cell_type": "code",
   "execution_count": 3,
   "metadata": {
    "collapsed": false
   },
   "outputs": [
    {
     "data": {
      "text/plain": [
       "array([[0, 0, 0, ..., 0, 0, 0],\n",
       "       [0, 0, 0, ..., 0, 0, 0],\n",
       "       [0, 0, 0, ..., 0, 0, 0],\n",
       "       ..., \n",
       "       [0, 0, 0, ..., 0, 0, 0],\n",
       "       [0, 0, 0, ..., 0, 0, 0],\n",
       "       [0, 0, 0, ..., 0, 0, 0]], dtype=uint8)"
      ]
     },
     "execution_count": 3,
     "metadata": {},
     "output_type": "execute_result"
    }
   ],
   "source": [
    "val = my_mat['GTinst'][0,0]\n",
    "my_segment = val['Segmentation']\n",
    "my_segment"
   ]
  },
  {
   "cell_type": "code",
   "execution_count": 4,
   "metadata": {
    "collapsed": false
   },
   "outputs": [
    {
     "data": {
      "text/plain": [
       "array([[ <400x500 sparse matrix of type '<class 'numpy.uint8'>'\n",
       "\twith 154 stored elements in Compressed Sparse Column format>]], dtype=object)"
      ]
     },
     "execution_count": 4,
     "metadata": {},
     "output_type": "execute_result"
    }
   ],
   "source": [
    "my_loaded_boundaries =  val['Boundaries']\n",
    "my_loaded_boundaries"
   ]
  },
  {
   "cell_type": "code",
   "execution_count": 5,
   "metadata": {
    "collapsed": false
   },
   "outputs": [
    {
     "data": {
      "text/plain": [
       "array([[0, 0, 0, ..., 0, 0, 0],\n",
       "       [0, 0, 0, ..., 0, 0, 0],\n",
       "       [0, 0, 0, ..., 0, 0, 0],\n",
       "       ..., \n",
       "       [0, 0, 0, ..., 0, 0, 0],\n",
       "       [0, 0, 0, ..., 0, 0, 0],\n",
       "       [0, 0, 0, ..., 0, 0, 0]], dtype=uint8)"
      ]
     },
     "execution_count": 5,
     "metadata": {},
     "output_type": "execute_result"
    }
   ],
   "source": [
    "#Expand boundaries sparse matrix\n",
    "my_boundaries = val['Boundaries'][0,0].toarray()\n",
    "my_boundaries"
   ]
  },
  {
   "cell_type": "code",
   "execution_count": 6,
   "metadata": {
    "collapsed": false
   },
   "outputs": [
    {
     "data": {
      "text/plain": [
       "array([[3]], dtype=uint8)"
      ]
     },
     "execution_count": 6,
     "metadata": {},
     "output_type": "execute_result"
    }
   ],
   "source": [
    "my_categories = val['Categories']\n",
    "my_categories"
   ]
  },
  {
   "cell_type": "markdown",
   "metadata": {},
   "source": [
    "## Cls File Example"
   ]
  },
  {
   "cell_type": "code",
   "execution_count": 8,
   "metadata": {
    "collapsed": false
   },
   "outputs": [
    {
     "name": "stderr",
     "output_type": "stream",
     "text": [
      "//anaconda/envs/gdalenv/lib/python3.5/site-packages/scipy/sparse/compressed.py:294: SparseEfficiencyWarning: Comparing sparse matrices using >= and <= is inefficient, using <, >, or !=, instead.\n",
      "  \"using <, >, or !=, instead.\", SparseEfficiencyWarning)\n"
     ]
    },
    {
     "data": {
      "text/plain": [
       "{'GTcls': array([[ (array([[ <375x500 sparse matrix of type '<class 'numpy.uint8'>'\n",
       " \twith 0 stored elements in Compressed Sparse Column format>],\n",
       "        [ <375x500 sparse matrix of type '<class 'numpy.uint8'>'\n",
       " \twith 0 stored elements in Compressed Sparse Column format>],\n",
       "        [ <375x500 sparse matrix of type '<class 'numpy.uint8'>'\n",
       " \twith 0 stored elements in Compressed Sparse Column format>],\n",
       "        [ <375x500 sparse matrix of type '<class 'numpy.uint8'>'\n",
       " \twith 0 stored elements in Compressed Sparse Column format>],\n",
       "        [ <375x500 sparse matrix of type '<class 'numpy.uint8'>'\n",
       " \twith 0 stored elements in Compressed Sparse Column format>],\n",
       "        [ <375x500 sparse matrix of type '<class 'numpy.uint8'>'\n",
       " \twith 0 stored elements in Compressed Sparse Column format>],\n",
       "        [ <375x500 sparse matrix of type '<class 'numpy.uint8'>'\n",
       " \twith 0 stored elements in Compressed Sparse Column format>],\n",
       "        [ <375x500 sparse matrix of type '<class 'numpy.uint8'>'\n",
       " \twith 943 stored elements in Compressed Sparse Column format>],\n",
       "        [ <375x500 sparse matrix of type '<class 'numpy.uint8'>'\n",
       " \twith 527 stored elements in Compressed Sparse Column format>],\n",
       "        [ <375x500 sparse matrix of type '<class 'numpy.uint8'>'\n",
       " \twith 0 stored elements in Compressed Sparse Column format>],\n",
       "        [ <375x500 sparse matrix of type '<class 'numpy.uint8'>'\n",
       " \twith 1752 stored elements in Compressed Sparse Column format>],\n",
       "        [ <375x500 sparse matrix of type '<class 'numpy.uint8'>'\n",
       " \twith 0 stored elements in Compressed Sparse Column format>],\n",
       "        [ <375x500 sparse matrix of type '<class 'numpy.uint8'>'\n",
       " \twith 0 stored elements in Compressed Sparse Column format>],\n",
       "        [ <375x500 sparse matrix of type '<class 'numpy.uint8'>'\n",
       " \twith 0 stored elements in Compressed Sparse Column format>],\n",
       "        [ <375x500 sparse matrix of type '<class 'numpy.uint8'>'\n",
       " \twith 0 stored elements in Compressed Sparse Column format>],\n",
       "        [ <375x500 sparse matrix of type '<class 'numpy.uint8'>'\n",
       " \twith 0 stored elements in Compressed Sparse Column format>],\n",
       "        [ <375x500 sparse matrix of type '<class 'numpy.uint8'>'\n",
       " \twith 0 stored elements in Compressed Sparse Column format>],\n",
       "        [ <375x500 sparse matrix of type '<class 'numpy.uint8'>'\n",
       " \twith 0 stored elements in Compressed Sparse Column format>],\n",
       "        [ <375x500 sparse matrix of type '<class 'numpy.uint8'>'\n",
       " \twith 0 stored elements in Compressed Sparse Column format>],\n",
       "        [ <375x500 sparse matrix of type '<class 'numpy.uint8'>'\n",
       " \twith 0 stored elements in Compressed Sparse Column format>]], dtype=object), array([[ 0,  0,  0, ...,  0,  0,  0],\n",
       "        [ 0,  0,  0, ...,  0,  0,  0],\n",
       "        [ 0,  0,  0, ...,  0,  0,  0],\n",
       "        ..., \n",
       "        [11, 11, 11, ...,  0,  0,  0],\n",
       "        [11, 11, 11, ...,  0,  0,  0],\n",
       "        [ 0,  0,  0, ...,  0,  0,  0]], dtype=uint8), array([[ 8],\n",
       "        [ 9],\n",
       "        [11]], dtype=uint8))]], \n",
       "       dtype=[('Boundaries', 'O'), ('Segmentation', 'O'), ('CategoriesPresent', 'O')]),\n",
       " '__globals__': [],\n",
       " '__header__': b'MATLAB 5.0 MAT-file, Platform: GLNXA64, Created on: Sun Jan  8 03:40:50 2012',\n",
       " '__version__': '1.0'}"
      ]
     },
     "execution_count": 8,
     "metadata": {},
     "output_type": "execute_result"
    }
   ],
   "source": [
    "my_mat2 = scipy.io.loadmat('2008_000227.mat')\n",
    "my_mat2"
   ]
  },
  {
   "cell_type": "code",
   "execution_count": 12,
   "metadata": {
    "collapsed": false
   },
   "outputs": [
    {
     "data": {
      "text/plain": [
       "array([[ 0,  0,  0, ...,  0,  0,  0],\n",
       "       [ 0,  0,  0, ...,  0,  0,  0],\n",
       "       [ 0,  0,  0, ...,  0,  0,  0],\n",
       "       ..., \n",
       "       [11, 11, 11, ...,  0,  0,  0],\n",
       "       [11, 11, 11, ...,  0,  0,  0],\n",
       "       [ 0,  0,  0, ...,  0,  0,  0]], dtype=uint8)"
      ]
     },
     "execution_count": 12,
     "metadata": {},
     "output_type": "execute_result"
    }
   ],
   "source": [
    "val2 = my_mat2['GTcls'][0,0]\n",
    "my_segment2 = val2['Segmentation']\n",
    "my_segment2"
   ]
  },
  {
   "cell_type": "code",
   "execution_count": 13,
   "metadata": {
    "collapsed": false
   },
   "outputs": [
    {
     "name": "stderr",
     "output_type": "stream",
     "text": [
      "//anaconda/envs/gdalenv/lib/python3.5/site-packages/scipy/sparse/compressed.py:294: SparseEfficiencyWarning: Comparing sparse matrices using >= and <= is inefficient, using <, >, or !=, instead.\n",
      "  \"using <, >, or !=, instead.\", SparseEfficiencyWarning)\n"
     ]
    },
    {
     "data": {
      "text/plain": [
       "array([[ <375x500 sparse matrix of type '<class 'numpy.uint8'>'\n",
       "\twith 0 stored elements in Compressed Sparse Column format>],\n",
       "       [ <375x500 sparse matrix of type '<class 'numpy.uint8'>'\n",
       "\twith 0 stored elements in Compressed Sparse Column format>],\n",
       "       [ <375x500 sparse matrix of type '<class 'numpy.uint8'>'\n",
       "\twith 0 stored elements in Compressed Sparse Column format>],\n",
       "       [ <375x500 sparse matrix of type '<class 'numpy.uint8'>'\n",
       "\twith 0 stored elements in Compressed Sparse Column format>],\n",
       "       [ <375x500 sparse matrix of type '<class 'numpy.uint8'>'\n",
       "\twith 0 stored elements in Compressed Sparse Column format>],\n",
       "       [ <375x500 sparse matrix of type '<class 'numpy.uint8'>'\n",
       "\twith 0 stored elements in Compressed Sparse Column format>],\n",
       "       [ <375x500 sparse matrix of type '<class 'numpy.uint8'>'\n",
       "\twith 0 stored elements in Compressed Sparse Column format>],\n",
       "       [ <375x500 sparse matrix of type '<class 'numpy.uint8'>'\n",
       "\twith 943 stored elements in Compressed Sparse Column format>],\n",
       "       [ <375x500 sparse matrix of type '<class 'numpy.uint8'>'\n",
       "\twith 527 stored elements in Compressed Sparse Column format>],\n",
       "       [ <375x500 sparse matrix of type '<class 'numpy.uint8'>'\n",
       "\twith 0 stored elements in Compressed Sparse Column format>],\n",
       "       [ <375x500 sparse matrix of type '<class 'numpy.uint8'>'\n",
       "\twith 1752 stored elements in Compressed Sparse Column format>],\n",
       "       [ <375x500 sparse matrix of type '<class 'numpy.uint8'>'\n",
       "\twith 0 stored elements in Compressed Sparse Column format>],\n",
       "       [ <375x500 sparse matrix of type '<class 'numpy.uint8'>'\n",
       "\twith 0 stored elements in Compressed Sparse Column format>],\n",
       "       [ <375x500 sparse matrix of type '<class 'numpy.uint8'>'\n",
       "\twith 0 stored elements in Compressed Sparse Column format>],\n",
       "       [ <375x500 sparse matrix of type '<class 'numpy.uint8'>'\n",
       "\twith 0 stored elements in Compressed Sparse Column format>],\n",
       "       [ <375x500 sparse matrix of type '<class 'numpy.uint8'>'\n",
       "\twith 0 stored elements in Compressed Sparse Column format>],\n",
       "       [ <375x500 sparse matrix of type '<class 'numpy.uint8'>'\n",
       "\twith 0 stored elements in Compressed Sparse Column format>],\n",
       "       [ <375x500 sparse matrix of type '<class 'numpy.uint8'>'\n",
       "\twith 0 stored elements in Compressed Sparse Column format>],\n",
       "       [ <375x500 sparse matrix of type '<class 'numpy.uint8'>'\n",
       "\twith 0 stored elements in Compressed Sparse Column format>],\n",
       "       [ <375x500 sparse matrix of type '<class 'numpy.uint8'>'\n",
       "\twith 0 stored elements in Compressed Sparse Column format>]], dtype=object)"
      ]
     },
     "execution_count": 13,
     "metadata": {},
     "output_type": "execute_result"
    }
   ],
   "source": [
    "my_loaded_boundaries2 =  val2['Boundaries']\n",
    "my_loaded_boundaries2"
   ]
  },
  {
   "cell_type": "code",
   "execution_count": 14,
   "metadata": {
    "collapsed": false
   },
   "outputs": [
    {
     "data": {
      "text/plain": [
       "array([[ 8],\n",
       "       [ 9],\n",
       "       [11]], dtype=uint8)"
      ]
     },
     "execution_count": 14,
     "metadata": {},
     "output_type": "execute_result"
    }
   ],
   "source": [
    "my_categories2 = val2['CategoriesPresent']\n",
    "my_categories2"
   ]
  },
  {
   "cell_type": "code",
   "execution_count": null,
   "metadata": {
    "collapsed": true
   },
   "outputs": [],
   "source": []
  }
 ],
 "metadata": {
  "kernelspec": {
   "display_name": "Python 3",
   "language": "python",
   "name": "python3"
  },
  "language_info": {
   "codemirror_mode": {
    "name": "ipython",
    "version": 3
   },
   "file_extension": ".py",
   "mimetype": "text/x-python",
   "name": "python",
   "nbconvert_exporter": "python",
   "pygments_lexer": "ipython3",
   "version": "3.5.2"
  }
 },
 "nbformat": 4,
 "nbformat_minor": 2
}
